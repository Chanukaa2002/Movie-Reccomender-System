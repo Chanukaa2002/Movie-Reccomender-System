{
 "cells": [
  {
   "cell_type": "code",
   "execution_count": 1,
   "id": "f5b5f199",
   "metadata": {},
   "outputs": [],
   "source": [
    "import pandas as pd\n",
    "import numpy as np"
   ]
  },
  {
   "cell_type": "code",
   "execution_count": 11,
   "id": "74c4ef73",
   "metadata": {},
   "outputs": [],
   "source": [
    "credit = pd.read_csv('../data/raw/tmdb_5000_credits.csv')\n",
    "movie = pd.read_csv('../data/raw/tmdb_5000_movies.csv')"
   ]
  },
  {
   "cell_type": "code",
   "execution_count": null,
   "id": "22693146",
   "metadata": {},
   "outputs": [],
   "source": [
    "movie.head(1)"
   ]
  }
 ],
 "metadata": {
  "kernelspec": {
   "display_name": "Python 3",
   "language": "python",
   "name": "python3"
  },
  "language_info": {
   "codemirror_mode": {
    "name": "ipython",
    "version": 3
   },
   "file_extension": ".py",
   "mimetype": "text/x-python",
   "name": "python",
   "nbconvert_exporter": "python",
   "pygments_lexer": "ipython3",
   "version": "3.12.6"
  }
 },
 "nbformat": 4,
 "nbformat_minor": 5
}
